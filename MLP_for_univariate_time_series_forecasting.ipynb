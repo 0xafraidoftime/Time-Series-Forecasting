{
  "nbformat": 4,
  "nbformat_minor": 0,
  "metadata": {
    "colab": {
      "provenance": []
    },
    "kernelspec": {
      "name": "python3",
      "display_name": "Python 3"
    },
    "language_info": {
      "name": "python"
    }
  },
  "cells": [
    {
      "cell_type": "code",
      "execution_count": null,
      "metadata": {
        "id": "wNH0RsHvWjJq"
      },
      "outputs": [],
      "source": [
        "# import libraries\n",
        "from numpy import array\n",
        "\n",
        "from keras.models import Sequential\n",
        "from keras.layers import Dense"
      ]
    },
    {
      "cell_type": "code",
      "source": [
        "# split a univariate sequence into samples\n",
        "def split_sequence(sequence, n_steps):\n",
        "    X, y = list(), list()\n",
        "    for i in range(len(sequence)):\n",
        "        # find the end of this pattern\n",
        "        end_ix = i + n_steps\n",
        "        # check if we are beyond the sequence\n",
        "        if end_ix > len(sequence)-1:\n",
        "            break\n",
        "        # gather input and output parts of the pattern\n",
        "        seq_x, seq_y = sequence[i:end_ix], sequence[end_ix]\n",
        "        X.append(seq_x)\n",
        "        y.append(seq_y)\n",
        "    return array(X), array(y)"
      ],
      "metadata": {
        "id": "uuU-HHame5lC"
      },
      "execution_count": null,
      "outputs": []
    },
    {
      "cell_type": "code",
      "source": [
        "# define univariate time series\n",
        "# define input sequence\n",
        "raw_seq = [10, 20, 30, 40, 50, 60, 70, 80, 90]\n",
        "\n",
        "# choose a number of time steps\n",
        "n_steps = 3\n",
        "\n",
        "# transform to a supervised learning problem\n",
        "X, y = split_sequence(raw_seq, n_steps)\n",
        "print(X.shape, y.shape)\n",
        "\n",
        "# show each sample\n",
        "for i in range(len(X)):\n",
        "    print(X[i], y[i])"
      ],
      "metadata": {
        "colab": {
          "base_uri": "https://localhost:8080/"
        },
        "id": "zfCjzWu4fEGj",
        "outputId": "01a3dc3e-6795-40f7-f4ef-3498904ad951"
      },
      "execution_count": null,
      "outputs": [
        {
          "output_type": "stream",
          "name": "stdout",
          "text": [
            "(6, 3) (6,)\n",
            "[10 20 30] 40\n",
            "[20 30 40] 50\n",
            "[30 40 50] 60\n",
            "[40 50 60] 70\n",
            "[50 60 70] 80\n",
            "[60 70 80] 90\n"
          ]
        }
      ]
    },
    {
      "cell_type": "code",
      "source": [
        "# transform input from [samples, features] to [samples, timesteps, features]\n",
        "X = X.reshape(X.shape[0], X.shape[1], 1)\n",
        "print(X.shape)"
      ],
      "metadata": {
        "colab": {
          "base_uri": "https://localhost:8080/"
        },
        "id": "i2aWpZmpfF15",
        "outputId": "c99a08fd-888a-4668-b2df-fc48b0d0fa9c"
      },
      "execution_count": null,
      "outputs": [
        {
          "output_type": "stream",
          "name": "stdout",
          "text": [
            "(6, 3, 1)\n"
          ]
        }
      ]
    },
    {
      "cell_type": "code",
      "source": [
        "# MLP with an input layer\n",
        "\n",
        "model = Sequential()\n",
        "model.add(Dense(100, activation= 'relu' , input_dim=n_steps))\n",
        "model.add(Dense(1))\n",
        "model.summary()\n",
        "\n",
        "# configure the model\n",
        "model.compile(optimizer= 'adam' , loss= 'mse' )\n"
      ],
      "metadata": {
        "colab": {
          "base_uri": "https://localhost:8080/"
        },
        "id": "Gx93q0ZefYHq",
        "outputId": "70b4d635-38b4-4813-8cf4-5fe68fad852b"
      },
      "execution_count": null,
      "outputs": [
        {
          "output_type": "stream",
          "name": "stdout",
          "text": [
            "Model: \"sequential\"\n",
            "_________________________________________________________________\n",
            " Layer (type)                Output Shape              Param #   \n",
            "=================================================================\n",
            " dense (Dense)               (None, 100)               400       \n",
            "                                                                 \n",
            " dense_1 (Dense)             (None, 1)                 101       \n",
            "                                                                 \n",
            "=================================================================\n",
            "Total params: 501 (1.96 KB)\n",
            "Trainable params: 501 (1.96 KB)\n",
            "Non-trainable params: 0 (0.00 Byte)\n",
            "_________________________________________________________________\n"
          ]
        }
      ]
    },
    {
      "cell_type": "code",
      "source": [
        "# Training\n",
        "# fit model\n",
        "history = model.fit(X, y, epochs=1000, verbose=0)"
      ],
      "metadata": {
        "id": "DRLleTukfaj4"
      },
      "execution_count": null,
      "outputs": []
    },
    {
      "cell_type": "code",
      "source": [
        "# demonstrate prediction\n",
        "x_input = array([70, 80, 90])\n",
        "x_input = x_input.reshape((1, n_steps))\n",
        "\n",
        "yhat = model.predict(x_input, verbose=0)\n",
        "print(yhat)"
      ],
      "metadata": {
        "colab": {
          "base_uri": "https://localhost:8080/"
        },
        "id": "7osuWrJ2fjO4",
        "outputId": "5e838d1e-c445-44b2-e4b0-e043ba3a4bb1"
      },
      "execution_count": null,
      "outputs": [
        {
          "output_type": "stream",
          "name": "stdout",
          "text": [
            "[[101.775185]]\n"
          ]
        }
      ]
    },
    {
      "cell_type": "markdown",
      "source": [
        "\n",
        "In the below code:\n",
        "\n",
        "We generate a different univariate time series dataset with trend and seasonality.\n",
        "We define and train MLP, CNN, and RNN models.\n",
        "We test each model on a sample input.\n",
        "We print the predictions made by each model.\n",
        "We plot the training loss comparison for MLP, CNN, and RNN models."
      ],
      "metadata": {
        "id": "hBzZ28EohbEX"
      }
    },
    {
      "cell_type": "code",
      "source": [
        "import numpy as np\n",
        "from keras.models import Sequential\n",
        "from keras.layers import Dense, Conv1D, MaxPooling1D, Flatten, SimpleRNN\n",
        "import matplotlib.pyplot as plt  # Import matplotlib.pyplot module\n",
        "from sklearn.metrics import mean_squared_error\n",
        "\n",
        "# Define a different univariate time series dataset with trend and seasonality\n",
        "# Example dataset with trend and seasonality\n",
        "def generate_seasonal_trend_data(n_steps):\n",
        "    return np.sin(0.1*np.arange(n_steps)) + np.arange(n_steps) * 0.01\n",
        "\n",
        "# Generate dataset\n",
        "raw_seq = generate_seasonal_trend_data(100)\n",
        "\n",
        "# Define the number of time steps\n",
        "n_steps = 3\n",
        "\n",
        "# Split sequence into samples\n",
        "def split_sequence(sequence, n_steps):\n",
        "    X, y = list(), list()\n",
        "    for i in range(len(sequence)):\n",
        "        end_ix = i + n_steps\n",
        "        if end_ix > len(sequence) - 1:\n",
        "            break\n",
        "        seq_x, seq_y = sequence[i:end_ix], sequence[end_ix]\n",
        "        X.append(seq_x)\n",
        "        y.append(seq_y)\n",
        "    return np.array(X), np.array(y)\n",
        "\n",
        "# Split sequence into samples\n",
        "X, y = split_sequence(raw_seq, n_steps)\n",
        "\n",
        "# Reshape input from [samples, features] to [samples, timesteps, features]\n",
        "X = X.reshape(X.shape[0], X.shape[1], 1)\n",
        "\n",
        "# Define and train MLP model\n",
        "mlp_model = Sequential([\n",
        "    Dense(100, activation='relu', input_shape=(n_steps,)),\n",
        "    Dense(1)\n",
        "])\n",
        "mlp_model.compile(optimizer='adam', loss='mse')\n",
        "mlp_history = mlp_model.fit(X, y, epochs=1000, verbose=0)\n",
        "\n",
        "# Define and train CNN model\n",
        "cnn_model = Sequential([\n",
        "    Conv1D(filters=64, kernel_size=2, activation='relu', input_shape=(n_steps, 1)),\n",
        "    MaxPooling1D(pool_size=2),\n",
        "    Flatten(),\n",
        "    Dense(50, activation='relu'),\n",
        "    Dense(1)\n",
        "])\n",
        "cnn_model.compile(optimizer='adam', loss='mse')\n",
        "cnn_history = cnn_model.fit(X, y, epochs=1000, verbose=0)\n",
        "\n",
        "# Define and train RNN model\n",
        "rnn_model = Sequential([\n",
        "    SimpleRNN(50, activation='relu', input_shape=(n_steps, 1)),\n",
        "    Dense(1)\n",
        "])\n",
        "rnn_model.compile(optimizer='adam', loss='mse')\n",
        "rnn_history = rnn_model.fit(X, y, epochs=1000, verbose=0)\n",
        "\n",
        "# Test MLP model\n",
        "x_input = np.array([generate_seasonal_trend_data(n_steps)])\n",
        "x_input = x_input.reshape((1, n_steps))\n",
        "mlp_yhat = mlp_model.predict(x_input, verbose=0)\n",
        "\n",
        "# Test CNN model\n",
        "x_input = x_input.reshape((1, n_steps, 1))\n",
        "cnn_yhat = cnn_model.predict(x_input, verbose=0)\n",
        "\n",
        "# Test RNN model\n",
        "rnn_yhat = rnn_model.predict(x_input, verbose=0)\n",
        "\n",
        "# Print predictions\n",
        "print(\"MLP Prediction:\", mlp_yhat[0][0])\n",
        "print(\"CNN Prediction:\", cnn_yhat[0][0])\n",
        "print(\"RNN Prediction:\", rnn_yhat[0][0])\n",
        "\n",
        "# Plot training loss for MLP, CNN, and RNN\n",
        "plt.plot(mlp_history.history['loss'], label='MLP')\n",
        "plt.plot(cnn_history.history['loss'], label='CNN')\n",
        "plt.plot(rnn_history.history['loss'], label='RNN')\n",
        "plt.xlabel('Epochs')\n",
        "plt.ylabel('Loss')\n",
        "plt.title('Training Loss Comparison')\n",
        "plt.legend()\n",
        "plt.show()\n",
        "\n"
      ],
      "metadata": {
        "colab": {
          "base_uri": "https://localhost:8080/",
          "height": 579
        },
        "id": "l1AEe_N6he7b",
        "outputId": "3837e260-46d9-4f2c-89c8-6025a577b39e"
      },
      "execution_count": null,
      "outputs": [
        {
          "output_type": "stream",
          "name": "stderr",
          "text": [
            "WARNING:tensorflow:5 out of the last 5 calls to <function Model.make_predict_function.<locals>.predict_function at 0x7bab0c20f520> triggered tf.function retracing. Tracing is expensive and the excessive number of tracings could be due to (1) creating @tf.function repeatedly in a loop, (2) passing tensors with different shapes, (3) passing Python objects instead of tensors. For (1), please define your @tf.function outside of the loop. For (2), @tf.function has reduce_retracing=True option that can avoid unnecessary retracing. For (3), please refer to https://www.tensorflow.org/guide/function#controlling_retracing and https://www.tensorflow.org/api_docs/python/tf/function for  more details.\n",
            "WARNING:tensorflow:6 out of the last 6 calls to <function Model.make_predict_function.<locals>.predict_function at 0x7bab0c0ab0a0> triggered tf.function retracing. Tracing is expensive and the excessive number of tracings could be due to (1) creating @tf.function repeatedly in a loop, (2) passing tensors with different shapes, (3) passing Python objects instead of tensors. For (1), please define your @tf.function outside of the loop. For (2), @tf.function has reduce_retracing=True option that can avoid unnecessary retracing. For (3), please refer to https://www.tensorflow.org/guide/function#controlling_retracing and https://www.tensorflow.org/api_docs/python/tf/function for  more details.\n"
          ]
        },
        {
          "output_type": "stream",
          "name": "stdout",
          "text": [
            "MLP Prediction: 0.32817295\n",
            "CNN Prediction: 0.32389516\n",
            "RNN Prediction: 0.32086566\n"
          ]
        },
        {
          "output_type": "display_data",
          "data": {
            "text/plain": [
              "<Figure size 640x480 with 1 Axes>"
            ],
            "image/png": "[encoded data removed]"
          },
          "metadata": {}
        }
      ]
    }
  ]
}